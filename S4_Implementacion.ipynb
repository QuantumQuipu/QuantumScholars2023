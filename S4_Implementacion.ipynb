{
 "cells": [
  {
   "cell_type": "markdown",
   "metadata": {},
   "source": [
    "<table width=\"100%\"><tr><td style=\"color:#bbbbbb;background-color:#ffffff;font-size:11px;font-style:italic;text-align:right;\"></td></tr></table>\n",
    "$ \\newcommand{\\bra}[1]{\\langle #1|} $\n",
    "$ \\newcommand{\\ket}[1]{|#1\\rangle} $\n",
    "$ \\newcommand{\\braket}[2]{\\langle #1|#2\\rangle} $\n",
    "$ \\newcommand{\\dot}[2]{ #1 \\cdot #2} $\n",
    "$ \\newcommand{\\biginner}[2]{\\left\\langle #1,#2\\right\\rangle} $\n",
    "$ \\newcommand{\\mymatrix}[2]{\\left( \\begin{array}{#1} #2\\end{array} \\right)} $\n",
    "$ \\newcommand{\\myvector}[1]{\\mymatrix{c}{#1}} $\n",
    "$ \\newcommand{\\myrvector}[1]{\\mymatrix{r}{#1}} $\n",
    "$ \\newcommand{\\mypar}[1]{\\left( #1 \\right)} $\n",
    "$ \\newcommand{\\mybigpar}[1]{ \\Big( #1 \\Big)} $\n",
    "$ \\newcommand{\\sqrttwo}{\\frac{1}{\\sqrt{2}}} $\n",
    "$ \\newcommand{\\dsqrttwo}{\\dfrac{1}{\\sqrt{2}}} $\n",
    "$ \\newcommand{\\onehalf}{\\frac{1}{2}} $\n",
    "$ \\newcommand{\\donehalf}{\\dfrac{1}{2}} $\n",
    "$ \\newcommand{\\hadamard}{ \\mymatrix{rr}{ \\sqrttwo & \\sqrttwo \\\\ \\sqrttwo & -\\sqrttwo }} $\n",
    "$ \\newcommand{\\vzero}{\\myvector{1\\\\0}} $\n",
    "$ \\newcommand{\\vone}{\\myvector{0\\\\1}} $\n",
    "$ \\newcommand{\\stateplus}{\\myvector{ \\sqrttwo \\\\  \\sqrttwo } } $\n",
    "$ \\newcommand{\\stateminus}{ \\myrvector{ \\sqrttwo \\\\ -\\sqrttwo } } $\n",
    "$ \\newcommand{\\myarray}[2]{ \\begin{array}{#1}#2\\end{array}} $\n",
    "$ \\newcommand{\\X}{ \\mymatrix{cc}{0 & 1 \\\\ 1 & 0}  } $\n",
    "$ \\newcommand{\\Z}{ \\mymatrix{rr}{1 & 0 \\\\ 0 & -1}  } $\n",
    "$ \\newcommand{\\Htwo}{ \\mymatrix{rrrr}{ \\frac{1}{2} & \\frac{1}{2} & \\frac{1}{2} & \\frac{1}{2} \\\\ \\frac{1}{2} & -\\frac{1}{2} & \\frac{1}{2} & -\\frac{1}{2} \\\\ \\frac{1}{2} & \\frac{1}{2} & -\\frac{1}{2} & -\\frac{1}{2} \\\\ \\frac{1}{2} & -\\frac{1}{2} & -\\frac{1}{2} & \\frac{1}{2} } } $\n",
    "$ \\newcommand{\\CNOT}{ \\mymatrix{cccc}{1 & 0 & 0 & 0 \\\\ 0 & 1 & 0 & 0 \\\\ 0 & 0 & 0 & 1 \\\\ 0 & 0 & 1 & 0} } $\n",
    "$ \\newcommand{\\norm}[1]{ \\left\\lVert #1 \\right\\rVert } $\n",
    "$ \\newcommand{\\pstate}[1]{ \\lceil \\mspace{-1mu} #1 \\mspace{-1.5mu} \\rfloor } $\n",
    "\n",
    "<img style=\"float: right;\" src=\"https://avatars.githubusercontent.com/u/141567859?s=200&v=4\">\n",
    "    \n",
    "<br>\n",
    "<br>\n",
    "<br>\n",
    "<font size=\"8\">QuantumQuipu/</font><br>\n",
    "<br>\n",
    "<br>\n",
    "<font size=\"15\"><b>QuantumScholars2023</b></font>\n",
    "<br>\n",
    "<br>\n",
    "<br>\n",
    "<br>\n",
    "<br>\n",
    "\n",
    "<div style=\"border-top: 20px solid #DE781F;\"></div>"
   ]
  },
  {
   "cell_type": "markdown",
   "metadata": {
    "_uuid": "1752ce061957fd1ce93d2e4db9494b7b29da7935",
    "id": "4skdndoa-7GI"
   },
   "source": [
    "**Autor:** Gustavo Valdivia Mera\\\n",
    "**Institución:** University of Houston\\\n",
    "**Correo:** gvaldiviamera@uh.edu\n",
    "          \n",
    "Este material está sujeto a los términos y condiciones de la licencia\n",
    "[Creative Commons CC BY-NC-SA 4.0](https://creativecommons.org/licenses/by-nc-sa/4.0/).\\\n",
    " Se permite el uso gratuito para cualquier propósito no comercial.\n",
    "\n",
    "*Puede consultar la última versión de este notebook en nuestro [repositorio](https://github.com/QuantumQuipu/QuantumScholars2023) y los videos de clase en nuestro canal de [Youtube](https://www.youtube.com/channel/UCze8vzQLcplutz0nWDNjFCA).*    "
   ]
  },
  {
   "cell_type": "markdown",
   "metadata": {},
   "source": [
    "## Implementación"
   ]
  },
  {
   "cell_type": "markdown",
   "metadata": {},
   "source": [
    "<img src=\"img/adj_3.png\" width=\"80%\" align=\"center\">\n",
    "    </td></tr>"
   ]
  },
  {
   "cell_type": "code",
   "execution_count": 1,
   "metadata": {},
   "outputs": [],
   "source": [
    "from qiskit import QuantumRegister, ClassicalRegister, QuantumCircuit\n",
    "from qiskit.visualization import plot_histogram\n",
    "from qiskit import execute, Aer\n",
    "import numpy as np"
   ]
  },
  {
   "cell_type": "markdown",
   "metadata": {},
   "source": [
    "### Oráculo constante\n",
    "\n",
    "Sea $x\\in\\{0,1\\}^4$\n",
    "\n",
    "<img src=\"img/adj_im1.png\" width=\"80%\" align=\"center\">\n",
    "    </td></tr>"
   ]
  },
  {
   "cell_type": "code",
   "execution_count": 2,
   "metadata": {},
   "outputs": [
    {
     "data": {
      "text/html": [
       "<pre style=\"word-wrap: normal;white-space: pre;background: #fff0;line-height: 1.1;font-family: &quot;Courier New&quot;,Courier,monospace\">           ░ \n",
       "q_0: ──────░─\n",
       "           ░ \n",
       "q_1: ──────░─\n",
       "           ░ \n",
       "q_2: ──────░─\n",
       "           ░ \n",
       "q_3: ──────░─\n",
       "     ┌───┐ ░ \n",
       "q_4: ┤ X ├─░─\n",
       "     └───┘ ░ </pre>"
      ],
      "text/plain": [
       "           ░ \n",
       "q_0: ──────░─\n",
       "           ░ \n",
       "q_1: ──────░─\n",
       "           ░ \n",
       "q_2: ──────░─\n",
       "           ░ \n",
       "q_3: ──────░─\n",
       "     ┌───┐ ░ \n",
       "q_4: ┤ X ├─░─\n",
       "     └───┘ ░ "
      ]
     },
     "execution_count": 2,
     "metadata": {},
     "output_type": "execute_result"
    }
   ],
   "source": [
    "oraculo_c = QuantumCircuit(5)\n",
    "fx = np.random.randint(2)\n",
    "\n",
    "if fx == 1:\n",
    "    oraculo_c.x(4)\n",
    "oraculo_c.barrier()\n",
    "\n",
    "oraculo_c.draw()"
   ]
  },
  {
   "cell_type": "markdown",
   "metadata": {},
   "source": [
    "### Oráculo balanceado\n",
    "\n",
    "Sea $x\\in\\{0,1\\}^4$\n",
    "\n",
    "<img src=\"img/adj_im2.png\" width=\"60%\" align=\"center\">\n",
    "    </td></tr>"
   ]
  },
  {
   "cell_type": "code",
   "execution_count": 3,
   "metadata": {
    "scrolled": true
   },
   "outputs": [
    {
     "data": {
      "text/html": [
       "<pre style=\"word-wrap: normal;white-space: pre;background: #fff0;line-height: 1.1;font-family: &quot;Courier New&quot;,Courier,monospace\">           ░                      ░       ░ \n",
       "q_0: ──────░───■──────────────────░───────░─\n",
       "     ┌───┐ ░   │                  ░ ┌───┐ ░ \n",
       "q_1: ┤ X ├─░───┼────■─────────────░─┤ X ├─░─\n",
       "     └───┘ ░   │    │             ░ └───┘ ░ \n",
       "q_2: ──────░───┼────┼────■────────░───────░─\n",
       "           ░   │    │    │        ░       ░ \n",
       "q_3: ──────░───┼────┼────┼────■───░───────░─\n",
       "           ░ ┌─┴─┐┌─┴─┐┌─┴─┐┌─┴─┐ ░       ░ \n",
       "q_4: ──────░─┤ X ├┤ X ├┤ X ├┤ X ├─░───────░─\n",
       "           ░ └───┘└───┘└───┘└───┘ ░       ░ </pre>"
      ],
      "text/plain": [
       "           ░                      ░       ░ \n",
       "q_0: ──────░───■──────────────────░───────░─\n",
       "     ┌───┐ ░   │                  ░ ┌───┐ ░ \n",
       "q_1: ┤ X ├─░───┼────■─────────────░─┤ X ├─░─\n",
       "     └───┘ ░   │    │             ░ └───┘ ░ \n",
       "q_2: ──────░───┼────┼────■────────░───────░─\n",
       "           ░   │    │    │        ░       ░ \n",
       "q_3: ──────░───┼────┼────┼────■───░───────░─\n",
       "           ░ ┌─┴─┐┌─┴─┐┌─┴─┐┌─┴─┐ ░       ░ \n",
       "q_4: ──────░─┤ X ├┤ X ├┤ X ├┤ X ├─░───────░─\n",
       "           ░ └───┘└───┘└───┘└───┘ ░       ░ "
      ]
     },
     "execution_count": 3,
     "metadata": {},
     "output_type": "execute_result"
    }
   ],
   "source": [
    "oraculo_b = QuantumCircuit(5)\n",
    "\n",
    "oraculo_b.x(1)\n",
    "oraculo_b.barrier()\n",
    "\n",
    "for x in range(4):\n",
    "    oraculo_b.cx(x,4)\n",
    "\n",
    "oraculo_b.barrier()\n",
    "oraculo_b.x(1)\n",
    "oraculo_b.barrier()\n",
    "\n",
    "oraculo_b.draw()"
   ]
  },
  {
   "cell_type": "markdown",
   "metadata": {},
   "source": [
    "## Algoritmo"
   ]
  },
  {
   "cell_type": "markdown",
   "metadata": {},
   "source": [
    "## 1. Constante"
   ]
  },
  {
   "cell_type": "code",
   "execution_count": 4,
   "metadata": {},
   "outputs": [
    {
     "data": {
      "text/html": [
       "<pre style=\"word-wrap: normal;white-space: pre;background: #fff0;line-height: 1.1;font-family: &quot;Courier New&quot;,Courier,monospace\">                ░ ┌───┐ ░       ░ ┌───┐ ░ ┌─┐         \n",
       "q_0: ───────────░─┤ H ├─░───────░─┤ H ├─░─┤M├─────────\n",
       "                ░ ├───┤ ░       ░ ├───┤ ░ └╥┘┌─┐      \n",
       "q_1: ───────────░─┤ H ├─░───────░─┤ H ├─░──╫─┤M├──────\n",
       "                ░ ├───┤ ░       ░ ├───┤ ░  ║ └╥┘┌─┐   \n",
       "q_2: ───────────░─┤ H ├─░───────░─┤ H ├─░──╫──╫─┤M├───\n",
       "                ░ ├───┤ ░       ░ ├───┤ ░  ║  ║ └╥┘┌─┐\n",
       "q_3: ───────────░─┤ H ├─░───────░─┤ H ├─░──╫──╫──╫─┤M├\n",
       "     ┌───┐┌───┐ ░ └───┘ ░ ┌───┐ ░ └───┘ ░  ║  ║  ║ └╥┘\n",
       "q_4: ┤ X ├┤ H ├─░───────░─┤ X ├─░───────░──╫──╫──╫──╫─\n",
       "     └───┘└───┘ ░       ░ └───┘ ░       ░  ║  ║  ║  ║ \n",
       "c: 4/══════════════════════════════════════╩══╩══╩══╩═\n",
       "                                           0  1  2  3 </pre>"
      ],
      "text/plain": [
       "                ░ ┌───┐ ░       ░ ┌───┐ ░ ┌─┐         \n",
       "q_0: ───────────░─┤ H ├─░───────░─┤ H ├─░─┤M├─────────\n",
       "                ░ ├───┤ ░       ░ ├───┤ ░ └╥┘┌─┐      \n",
       "q_1: ───────────░─┤ H ├─░───────░─┤ H ├─░──╫─┤M├──────\n",
       "                ░ ├───┤ ░       ░ ├───┤ ░  ║ └╥┘┌─┐   \n",
       "q_2: ───────────░─┤ H ├─░───────░─┤ H ├─░──╫──╫─┤M├───\n",
       "                ░ ├───┤ ░       ░ ├───┤ ░  ║  ║ └╥┘┌─┐\n",
       "q_3: ───────────░─┤ H ├─░───────░─┤ H ├─░──╫──╫──╫─┤M├\n",
       "     ┌───┐┌───┐ ░ └───┘ ░ ┌───┐ ░ └───┘ ░  ║  ║  ║ └╥┘\n",
       "q_4: ┤ X ├┤ H ├─░───────░─┤ X ├─░───────░──╫──╫──╫──╫─\n",
       "     └───┘└───┘ ░       ░ └───┘ ░       ░  ║  ║  ║  ║ \n",
       "c: 4/══════════════════════════════════════╩══╩══╩══╩═\n",
       "                                           0  1  2  3 "
      ]
     },
     "execution_count": 4,
     "metadata": {},
     "output_type": "execute_result"
    }
   ],
   "source": [
    "qc=QuantumCircuit(5,4)\n",
    "qc.x(4)\n",
    "qc.h(4)\n",
    "qc.barrier()\n",
    "\n",
    "for x in range(4):\n",
    "    qc.h(x)\n",
    "qc.barrier()\n",
    "\n",
    "qc=qc.compose(oraculo_c)\n",
    "qc.barrier\n",
    "\n",
    "for x in range(4):\n",
    "    qc.h(x)\n",
    "qc.barrier()\n",
    "\n",
    "qc.measure([0,1,2,3],[0,1,2,3])\n",
    "qc.draw()"
   ]
  },
  {
   "cell_type": "code",
   "execution_count": 5,
   "metadata": {},
   "outputs": [
    {
     "data": {
      "image/png": "[encoded data removed]",
      "text/plain": [
       "<Figure size 700x500 with 1 Axes>"
      ]
     },
     "execution_count": 5,
     "metadata": {},
     "output_type": "execute_result"
    }
   ],
   "source": [
    "aer_sim = Aer.get_backend('aer_simulator')\n",
    "results = aer_sim.run(qc).result()\n",
    "answer = results.get_counts()\n",
    "\n",
    "plot_histogram(answer)"
   ]
  },
  {
   "cell_type": "markdown",
   "metadata": {},
   "source": [
    "## 2. Balanceado"
   ]
  },
  {
   "cell_type": "code",
   "execution_count": 6,
   "metadata": {},
   "outputs": [
    {
     "data": {
      "text/html": [
       "<pre style=\"word-wrap: normal;white-space: pre;background: #fff0;line-height: 1.1;font-family: &quot;Courier New&quot;,Courier,monospace\">                ░ ┌───┐ ░       ░                      ░       ░ ┌───┐ ░ ┌─┐   »\n",
       "q_0: ───────────░─┤ H ├─░───────░───■──────────────────░───────░─┤ H ├─░─┤M├───»\n",
       "                ░ ├───┤ ░ ┌───┐ ░   │                  ░ ┌───┐ ░ ├───┤ ░ └╥┘┌─┐»\n",
       "q_1: ───────────░─┤ H ├─░─┤ X ├─░───┼────■─────────────░─┤ X ├─░─┤ H ├─░──╫─┤M├»\n",
       "                ░ ├───┤ ░ └───┘ ░   │    │             ░ └───┘ ░ ├───┤ ░  ║ └╥┘»\n",
       "q_2: ───────────░─┤ H ├─░───────░───┼────┼────■────────░───────░─┤ H ├─░──╫──╫─»\n",
       "                ░ ├───┤ ░       ░   │    │    │        ░       ░ ├───┤ ░  ║  ║ »\n",
       "q_3: ───────────░─┤ H ├─░───────░───┼────┼────┼────■───░───────░─┤ H ├─░──╫──╫─»\n",
       "     ┌───┐┌───┐ ░ └───┘ ░       ░ ┌─┴─┐┌─┴─┐┌─┴─┐┌─┴─┐ ░       ░ └───┘ ░  ║  ║ »\n",
       "q_4: ┤ X ├┤ H ├─░───────░───────░─┤ X ├┤ X ├┤ X ├┤ X ├─░───────░───────░──╫──╫─»\n",
       "     └───┘└───┘ ░       ░       ░ └───┘└───┘└───┘└───┘ ░       ░       ░  ║  ║ »\n",
       "c: 4/═════════════════════════════════════════════════════════════════════╩══╩═»\n",
       "                                                                          0  1 »\n",
       "«           \n",
       "«q_0: ──────\n",
       "«           \n",
       "«q_1: ──────\n",
       "«     ┌─┐   \n",
       "«q_2: ┤M├───\n",
       "«     └╥┘┌─┐\n",
       "«q_3: ─╫─┤M├\n",
       "«      ║ └╥┘\n",
       "«q_4: ─╫──╫─\n",
       "«      ║  ║ \n",
       "«c: 4/═╩══╩═\n",
       "«      2  3 </pre>"
      ],
      "text/plain": [
       "                ░ ┌───┐ ░       ░                      ░       ░ ┌───┐ ░ ┌─┐   »\n",
       "q_0: ───────────░─┤ H ├─░───────░───■──────────────────░───────░─┤ H ├─░─┤M├───»\n",
       "                ░ ├───┤ ░ ┌───┐ ░   │                  ░ ┌───┐ ░ ├───┤ ░ └╥┘┌─┐»\n",
       "q_1: ───────────░─┤ H ├─░─┤ X ├─░───┼────■─────────────░─┤ X ├─░─┤ H ├─░──╫─┤M├»\n",
       "                ░ ├───┤ ░ └───┘ ░   │    │             ░ └───┘ ░ ├───┤ ░  ║ └╥┘»\n",
       "q_2: ───────────░─┤ H ├─░───────░───┼────┼────■────────░───────░─┤ H ├─░──╫──╫─»\n",
       "                ░ ├───┤ ░       ░   │    │    │        ░       ░ ├───┤ ░  ║  ║ »\n",
       "q_3: ───────────░─┤ H ├─░───────░───┼────┼────┼────■───░───────░─┤ H ├─░──╫──╫─»\n",
       "     ┌───┐┌───┐ ░ └───┘ ░       ░ ┌─┴─┐┌─┴─┐┌─┴─┐┌─┴─┐ ░       ░ └───┘ ░  ║  ║ »\n",
       "q_4: ┤ X ├┤ H ├─░───────░───────░─┤ X ├┤ X ├┤ X ├┤ X ├─░───────░───────░──╫──╫─»\n",
       "     └───┘└───┘ ░       ░       ░ └───┘└───┘└───┘└───┘ ░       ░       ░  ║  ║ »\n",
       "c: 4/═════════════════════════════════════════════════════════════════════╩══╩═»\n",
       "                                                                          0  1 »\n",
       "«           \n",
       "«q_0: ──────\n",
       "«           \n",
       "«q_1: ──────\n",
       "«     ┌─┐   \n",
       "«q_2: ┤M├───\n",
       "«     └╥┘┌─┐\n",
       "«q_3: ─╫─┤M├\n",
       "«      ║ └╥┘\n",
       "«q_4: ─╫──╫─\n",
       "«      ║  ║ \n",
       "«c: 4/═╩══╩═\n",
       "«      2  3 "
      ]
     },
     "execution_count": 6,
     "metadata": {},
     "output_type": "execute_result"
    }
   ],
   "source": [
    "qcc=QuantumCircuit(5,4)\n",
    "qcc.x(4)\n",
    "qcc.h(4)\n",
    "qcc.barrier()\n",
    "\n",
    "for x in range(4):\n",
    "    qcc.h(x)\n",
    "qcc.barrier()\n",
    "\n",
    "qcc=qcc.compose(oraculo_b)\n",
    "qcc.barrier\n",
    "\n",
    "for x in range(4):\n",
    "    qcc.h(x)\n",
    "qcc.barrier()\n",
    "\n",
    "qcc.measure([0,1,2,3],[0,1,2,3])\n",
    "qcc.draw()"
   ]
  },
  {
   "cell_type": "code",
   "execution_count": 7,
   "metadata": {
    "scrolled": true
   },
   "outputs": [
    {
     "data": {
      "image/png": "[encoded data removed]",
      "text/plain": [
       "<Figure size 700x500 with 1 Axes>"
      ]
     },
     "execution_count": 7,
     "metadata": {},
     "output_type": "execute_result"
    }
   ],
   "source": [
    "aer_si = Aer.get_backend('aer_simulator')\n",
    "result = aer_si.run(qcc).result()\n",
    "answe = result.get_counts()\n",
    "\n",
    "plot_histogram(answe)"
   ]
  },
  {
   "cell_type": "markdown",
   "metadata": {},
   "source": [
    "### Consulta al estudiante\n",
    "\n",
    "¿Cómo implementarias un oráculo balanceado para $n=3$ de tal forma que se obtenga el siguiente comportamiento de $f(x)$?\n",
    "\n"
   ]
  },
  {
   "cell_type": "markdown",
   "metadata": {
    "id": "6ucKfX5Q-7Ga"
   },
   "source": [
    "---\n",
    "\n",
    "## 5. Recursos útiles\n",
    "\n",
    "[1] David Deutsch and Richard Jozsa (1992). \"Rapid solutions of problems by quantum computation\".\\\n",
    "Proceedings of the Royal Society of London A. 439: 553–558. [doi:10.1098/rspa.1992.0167](https://royalsocietypublishing.org/doi/10.1098/rspa.1992.0167).\n",
    "\n",
    "[2] [Qiksit: Deutsch-Jozsa Algorithm](https://learn.qiskit.org/course/ch-algorithms/deutsch-jozsa-algorithm)\n",
    "\n",
    "---"
   ]
  },
  {
   "cell_type": "markdown",
   "metadata": {},
   "source": [
    "## Donaciones\n",
    "<br>\n",
    "Puedes donar una vez en el siguiente enlace (Ko-Fi)\n",
    "\n",
    "<a href=\"https://ko-fi.com/rcrdphysics\">\n",
    "<img src=\"https://habrastorage.org/webt/8r/ml/xf/8rmlxfpdzukegpxa62cxlfvgkqe.png\" width=20% />\n",
    "\n",
    "</center>"
   ]
  }
 ],
 "metadata": {
  "kernelspec": {
   "display_name": "Python 3 (ipykernel)",
   "language": "python",
   "name": "python3"
  },
  "language_info": {
   "codemirror_mode": {
    "name": "ipython",
    "version": 3
   },
   "file_extension": ".py",
   "mimetype": "text/x-python",
   "name": "python",
   "nbconvert_exporter": "python",
   "pygments_lexer": "ipython3",
   "version": "3.11.3"
  }
 },
 "nbformat": 4,
 "nbformat_minor": 4
}
