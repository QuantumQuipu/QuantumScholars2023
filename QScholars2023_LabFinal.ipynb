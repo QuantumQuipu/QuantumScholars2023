{
 "cells": [
  {
   "cell_type": "markdown",
   "id": "26a95c84-7fd5-4eac-ad87-d72a990eab2e",
   "metadata": {},
   "source": [
    "<table width=\"100%\"><tr><td style=\"color:#bbbbbb;background-color:#ffffff;font-size:11px;font-style:italic;text-align:right;\"></td></tr></table>\n",
    "$ \\newcommand{\\bra}[1]{\\langle #1|} $\n",
    "$ \\newcommand{\\ket}[1]{|#1\\rangle} $\n",
    "$ \\newcommand{\\braket}[2]{\\langle #1|#2\\rangle} $\n",
    "$ \\newcommand{\\dot}[2]{ #1 \\cdot #2} $\n",
    "$ \\newcommand{\\biginner}[2]{\\left\\langle #1,#2\\right\\rangle} $\n",
    "$ \\newcommand{\\mymatrix}[2]{\\left( \\begin{array}{#1} #2\\end{array} \\right)} $\n",
    "$ \\newcommand{\\myvector}[1]{\\mymatrix{c}{#1}} $\n",
    "$ \\newcommand{\\myrvector}[1]{\\mymatrix{r}{#1}} $\n",
    "$ \\newcommand{\\mypar}[1]{\\left( #1 \\right)} $\n",
    "$ \\newcommand{\\mybigpar}[1]{ \\Big( #1 \\Big)} $\n",
    "$ \\newcommand{\\sqrttwo}{\\frac{1}{\\sqrt{2}}} $\n",
    "$ \\newcommand{\\dsqrttwo}{\\dfrac{1}{\\sqrt{2}}} $\n",
    "$ \\newcommand{\\onehalf}{\\frac{1}{2}} $\n",
    "$ \\newcommand{\\donehalf}{\\dfrac{1}{2}} $\n",
    "$ \\newcommand{\\hadamard}{ \\mymatrix{rr}{ \\sqrttwo & \\sqrttwo \\\\ \\sqrttwo & -\\sqrttwo }} $\n",
    "$ \\newcommand{\\vzero}{\\myvector{1\\\\0}} $\n",
    "$ \\newcommand{\\vone}{\\myvector{0\\\\1}} $\n",
    "$ \\newcommand{\\stateplus}{\\myvector{ \\sqrttwo \\\\  \\sqrttwo } } $\n",
    "$ \\newcommand{\\stateminus}{ \\myrvector{ \\sqrttwo \\\\ -\\sqrttwo } } $\n",
    "$ \\newcommand{\\myarray}[2]{ \\begin{array}{#1}#2\\end{array}} $\n",
    "$ \\newcommand{\\X}{ \\mymatrix{cc}{0 & 1 \\\\ 1 & 0}  } $\n",
    "$ \\newcommand{\\Z}{ \\mymatrix{rr}{1 & 0 \\\\ 0 & -1}  } $\n",
    "$ \\newcommand{\\Htwo}{ \\mymatrix{rrrr}{ \\frac{1}{2} & \\frac{1}{2} & \\frac{1}{2} & \\frac{1}{2} \\\\ \\frac{1}{2} & -\\frac{1}{2} & \\frac{1}{2} & -\\frac{1}{2} \\\\ \\frac{1}{2} & \\frac{1}{2} & -\\frac{1}{2} & -\\frac{1}{2} \\\\ \\frac{1}{2} & -\\frac{1}{2} & -\\frac{1}{2} & \\frac{1}{2} } } $\n",
    "$ \\newcommand{\\CNOT}{ \\mymatrix{cccc}{1 & 0 & 0 & 0 \\\\ 0 & 1 & 0 & 0 \\\\ 0 & 0 & 0 & 1 \\\\ 0 & 0 & 1 & 0} } $\n",
    "$ \\newcommand{\\norm}[1]{ \\left\\lVert #1 \\right\\rVert } $\n",
    "$ \\newcommand{\\pstate}[1]{ \\lceil \\mspace{-1mu} #1 \\mspace{-1.5mu} \\rfloor } $\n",
    "\n",
    "<center>\n",
    "<img src=\"https://media.discordapp.net/attachments/1126231743641428109/1138188172694650941/image.png?width=960&height=473\">"
   ]
  },
  {
   "cell_type": "markdown",
   "id": "482aa5db-992f-42db-8466-c3c5f4060ef7",
   "metadata": {},
   "source": [
    "    \n",
    "## <center> QUANTUM SCHOLARS 2023\n",
    "\n",
    "\n",
    "Autores: [Ricardo Quispe M.](https://github.com/RcrdPhysics).\\, Tony Milla y Gustavo Valdivia\n",
    "Institución: QuantumQuipu, Universidad Nacional Mayor de San Marcos\\\n",
    "Correo: ricardo.quispe5@unmsm.edu.pe, tony.milla@unmsm.edu.pe, gvaldiviamera@uh.edu\n",
    "    \n",
    "Este material está sujeto a los términos y condiciones de la licencia [Creative Commons CC BY-NC-SA 4.0](https://creativecommons.org/licenses/by-nc-sa/4.0/). Se permite el uso gratuito para cualquier propósito no comercial.\n",
    "\n",
    "*También puede consultar la última versión de este notebook en nuestro [repositorio](https://github.com/QuantumQuipu/QuantumScholars2023) y los videos de clase [en nuestro canal de Youtube](https://www.youtube.com/@quantumquipu-unmsm1091/streams).*\n",
    "    "
   ]
  },
  {
   "cell_type": "markdown",
   "id": "2398c92e-3b37-472d-9c60-fb98204efa25",
   "metadata": {},
   "source": [
    "Indicaciones:\n",
    "\n",
    "1.- Este notebook deberá ser enviado a través del siguiente formulario: https://forms.gle/LRtmmhvZZ85Cuq5t9\n",
    "\n",
    "2.- Fecha de entrega miércoles 16 de Agosto a las 18Hrs GMT-5\n",
    "\n",
    "3.- Deberá adjuntar toda su solución en un solo notebook. (Ya sea cálculos a mano en formato imagen, o visualizaciones externas)\n",
    "\n",
    "4.- Los problemas extra pueden reemplazar a cualquier problema dentro de la misma clase.\n",
    "\n"
   ]
  },
  {
   "cell_type": "markdown",
   "id": "a62492b4-4d9b-428f-9bec-8d5ad52004c3",
   "metadata": {},
   "source": [
    "## Clase 1-2:"
   ]
  },
  {
   "cell_type": "markdown",
   "id": "138e858b-69b2-4ba2-ac77-cf1410830d45",
   "metadata": {},
   "source": [
    "1.- ¿Cuál es el vector de estado de un sistema compuesto por 3 qubits , estando los qubits individuales(e independientes) en los estados  $|+\\rangle $ , $|+\\rangle $,$| -\\rangle $,? Luego hacer las mediciones parciales para el qubit central, repetir lo mismo con qiskit.\n",
    "\n",
    "2.- ¿Cuántos qubits independientes tiene como mínimo el siguiente sistema?\n",
    "\n",
    "<center>\n",
    "<img src=\"https://raw.githubusercontent.com/tonymilla/QuantumScholars2023/main/imagenes/examen/q_spherequestion.png\">\n",
    "\n",
    "3.- ¿Cómo se escribiría en notación de Dirac una compuerta CU3 desarrollalo e implementalo en qiskit para $\\theta = \\pi$, $\\phi = \\frac{\\pi}{2}$ y $\\lambda = \\frac{7\\pi}{2}$ "
   ]
  },
  {
   "cell_type": "markdown",
   "id": "89630f1c-3b70-453a-b68d-6f77afb99883",
   "metadata": {},
   "source": [
    "## Clase 4-5"
   ]
  },
  {
   "cell_type": "markdown",
   "id": "9adfd07d-6fc3-4cc2-a491-211e46026c6c",
   "metadata": {},
   "source": [
    "4.- A partir de la relación existente entre la operación (módulo 2) y el operador XOR ($\\oplus$). Mostrar:\n",
    "\n",
    "\\begin{align}\n",
    "\\sum_{i=1}^n x_iz_i \\pmod 2=x_1z_1\\oplus x_2z_2\\oplus\\cdots\\oplus x_nz_n\n",
    "\\end{align}\n",
    "\n",
    "5.- Implementa el código para la función oráculo balanceado con $n=3$, la cual retorna el circuito cuántico qc. Considere que $f(x)$ está dado por:\n",
    "\n",
    "\\begin{align}\n",
    "f(001)&=0\\\\\n",
    "f(000)&=0\\\\\n",
    "f(111)&=0\\\\\n",
    "f(110)&=0\\\\\n",
    "f(011)&=1\\\\\n",
    "f(010)&=1\\\\\n",
    "f(100)&=1\\\\\n",
    "f(101)&=1\\\\\n",
    "\\end{align}\n",
    "\n",
    "6.- En la construcción más simple posible de un oráculo balanceado, se utiliza la compuerta $CX$, la cual toma como objetivo el $(n+1)$-ésimo qubit del circuito y como control cada uno de los $n$ primeros qubits. Sin embargo, ¿es realmente necesario aplicar $CX$ a todos los $n$ primeros qubits, o podríamos prescindir de algunos y obtener igualmente un oráculo balanceado?\n",
    "\n",
    "7.- Implemente el algoritmo de Grover para determinar la máxima cantidad de aristas en un grafo de 5 nodos y 6 aristas:\n",
    "\n",
    "\\begin{align}\n",
    "(0,3)\\\\\n",
    "(0,4)\\\\\n",
    "(1,3)\\\\\n",
    "(1,4)\\\\\n",
    "(2,3)\\\\\n",
    "(2,4)\\\\\n",
    "\\end{align}"
   ]
  },
  {
   "cell_type": "markdown",
   "id": "fa21afeb-2e1e-4ad8-bba5-e3f8deeaa1ce",
   "metadata": {},
   "source": [
    "8.- En el algoritmo de Grover, determine el número de veces que debe ejercutarse el par $U_\\omega U_f$ para que el estado final de nuestro circuito coincida con el Ket de estados deseados sabiendo que $x\\in\\{0,1\\}^5$ y hay 4 estados que sastifacen las características de búsqueda."
   ]
  },
  {
   "cell_type": "markdown",
   "id": "fe6a0a56-4c1a-4307-bca1-ce168a444190",
   "metadata": {},
   "source": [
    "Extra 1.- Si\n",
    "\n",
    "\\begin{align}\n",
    "\\ket{\\psi3}&=U\\omega\\ket{\\psi_2}\\\n",
    "&=\\left(2\\ket{s}\\bra{s}-\\mathbb{I}\\right)\\left(-\\sqrt{\\frac{a}{2^n}}\\ket{A}+\\sqrt{\\frac{b}{2^n}}\\ket{B}\\right)\n",
    "\\end{align}\n",
    "\n",
    "Usando\n",
    "\\begin{align}\n",
    "\\ket{s}\\bra{s}=\\frac{a}{2^n}\\ket{A}\\bra{A}+\\frac{b}{2^n}\\ket{B}\\bra{B}+\\frac{\\sqrt{ab}}{2^n}\\left[\\ket{A}\\bra{B}+\\ket{B}\\bra{A}\\right]\n",
    "\\end{align}\n",
    "\\begin{align}\n",
    "&\\sin\\theta=\\sqrt{\\frac{a}{2^n}}\\\n",
    "&\\cos\\theta=\\sqrt{\\frac{b}{2^n}}\n",
    "\\end{align}\n",
    "\n",
    "Demuestre:\n",
    "\\begin{align}\n",
    "\\ket{\\psi_3}=\\sin 3\\theta\\ket{A}+\\cos 3\\theta\\ket{B}\n",
    "\\end{align}"
   ]
  },
  {
   "cell_type": "markdown",
   "id": "82a0a443-064c-4a24-8df7-33008ba3790a",
   "metadata": {},
   "source": [
    "## Clase 6:"
   ]
  },
  {
   "cell_type": "markdown",
   "id": "05ba4e37-34a3-4fc7-8ccd-46d2ced4a0d1",
   "metadata": {},
   "source": [
    "9.- La implementación de QFT se probó preparando el estado de Fourier $|\\widetilde{5}\\rangle$ para el cual $\\text{QFT}^{\\dagger}|\\widetilde{5}\\rangle= |101\\rangle$. Intenta encontrar el estado $|a\\rangle$ tal que $\\text{QFT}^{\\dagger}|a\\rangle = |100\\rangle$.\n",
    "\n",
    "10.- Encuentra el estado $|b\\rangle$ tal que $\\text{QFT}^{\\dagger}|b\\rangle = |011\\rangle$.\n",
    "\n",
    "Extra 3. Intente escribir la función QFT sin recursividad. Utilice el simulador unitario de Qiskit para verificar sus resultados."
   ]
  },
  {
   "cell_type": "markdown",
   "id": "1a7fdbd1-97e6-419b-95d4-18abd28facfb",
   "metadata": {},
   "source": [
    "## 5. Recursos útiles\n",
    "\n",
    "* Los notebooks y sus referencias.\n",
    "\n",
    "## Donaciones\n",
    "<br>\n",
    "<center>\n",
    "Puedes donar una vez en el siguiente enlace (Ko-Fi):\n",
    "\n",
    "<br>\n",
    "    \n",
    "*Click en la imagen.*\n",
    "\n",
    "<a href=\"https://ko-fi.com/rcrdphysics\">\n",
    "<img src=\"https://habrastorage.org/webt/8r/ml/xf/8rmlxfpdzukegpxa62cxlfvgkqe.png\" width=20% />\n",
    "\n",
    "</center>"
   ]
  },
  {
   "cell_type": "code",
   "execution_count": null,
   "id": "b44c66ff-164f-499b-a270-87639b7ee846",
   "metadata": {},
   "outputs": [],
   "source": []
  }
 ],
 "metadata": {
  "kernelspec": {
   "display_name": "Python 3 (ipykernel)",
   "language": "python",
   "name": "python3"
  },
  "language_info": {
   "codemirror_mode": {
    "name": "ipython",
    "version": 3
   },
   "file_extension": ".py",
   "mimetype": "text/x-python",
   "name": "python",
   "nbconvert_exporter": "python",
   "pygments_lexer": "ipython3",
   "version": "3.10.8"
  },
  "widgets": {
   "application/vnd.jupyter.widget-state+json": {
    "state": {},
    "version_major": 2,
    "version_minor": 0
   }
  }
 },
 "nbformat": 4,
 "nbformat_minor": 5
}
