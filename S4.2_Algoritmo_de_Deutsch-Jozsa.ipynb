{
 "cells": [
  {
   "cell_type": "markdown",
   "metadata": {},
   "source": [
    "<table width=\"100%\"><tr><td style=\"color:#bbbbbb;background-color:#ffffff;font-size:11px;font-style:italic;text-align:right;\"></td></tr></table>\n",
    "$ \\newcommand{\\bra}[1]{\\langle #1|} $\n",
    "$ \\newcommand{\\ket}[1]{|#1\\rangle} $\n",
    "$ \\newcommand{\\braket}[2]{\\langle #1|#2\\rangle} $\n",
    "$ \\newcommand{\\dot}[2]{ #1 \\cdot #2} $\n",
    "$ \\newcommand{\\biginner}[2]{\\left\\langle #1,#2\\right\\rangle} $\n",
    "$ \\newcommand{\\mymatrix}[2]{\\left( \\begin{array}{#1} #2\\end{array} \\right)} $\n",
    "$ \\newcommand{\\myvector}[1]{\\mymatrix{c}{#1}} $\n",
    "$ \\newcommand{\\myrvector}[1]{\\mymatrix{r}{#1}} $\n",
    "$ \\newcommand{\\mypar}[1]{\\left( #1 \\right)} $\n",
    "$ \\newcommand{\\mybigpar}[1]{ \\Big( #1 \\Big)} $\n",
    "$ \\newcommand{\\sqrttwo}{\\frac{1}{\\sqrt{2}}} $\n",
    "$ \\newcommand{\\dsqrttwo}{\\dfrac{1}{\\sqrt{2}}} $\n",
    "$ \\newcommand{\\onehalf}{\\frac{1}{2}} $\n",
    "$ \\newcommand{\\donehalf}{\\dfrac{1}{2}} $\n",
    "$ \\newcommand{\\hadamard}{ \\mymatrix{rr}{ \\sqrttwo & \\sqrttwo \\\\ \\sqrttwo & -\\sqrttwo }} $\n",
    "$ \\newcommand{\\vzero}{\\myvector{1\\\\0}} $\n",
    "$ \\newcommand{\\vone}{\\myvector{0\\\\1}} $\n",
    "$ \\newcommand{\\stateplus}{\\myvector{ \\sqrttwo \\\\  \\sqrttwo } } $\n",
    "$ \\newcommand{\\stateminus}{ \\myrvector{ \\sqrttwo \\\\ -\\sqrttwo } } $\n",
    "$ \\newcommand{\\myarray}[2]{ \\begin{array}{#1}#2\\end{array}} $\n",
    "$ \\newcommand{\\X}{ \\mymatrix{cc}{0 & 1 \\\\ 1 & 0}  } $\n",
    "$ \\newcommand{\\Z}{ \\mymatrix{rr}{1 & 0 \\\\ 0 & -1}  } $\n",
    "$ \\newcommand{\\Htwo}{ \\mymatrix{rrrr}{ \\frac{1}{2} & \\frac{1}{2} & \\frac{1}{2} & \\frac{1}{2} \\\\ \\frac{1}{2} & -\\frac{1}{2} & \\frac{1}{2} & -\\frac{1}{2} \\\\ \\frac{1}{2} & \\frac{1}{2} & -\\frac{1}{2} & -\\frac{1}{2} \\\\ \\frac{1}{2} & -\\frac{1}{2} & -\\frac{1}{2} & \\frac{1}{2} } } $\n",
    "$ \\newcommand{\\CNOT}{ \\mymatrix{cccc}{1 & 0 & 0 & 0 \\\\ 0 & 1 & 0 & 0 \\\\ 0 & 0 & 0 & 1 \\\\ 0 & 0 & 1 & 0} } $\n",
    "$ \\newcommand{\\norm}[1]{ \\left\\lVert #1 \\right\\rVert } $\n",
    "$ \\newcommand{\\pstate}[1]{ \\lceil \\mspace{-1mu} #1 \\mspace{-1.5mu} \\rfloor } $\n",
    "\n",
    "<img style=\"float: right;\" src=\"https://avatars.githubusercontent.com/u/141567859?s=200&v=4\">\n",
    "    \n",
    "<br>\n",
    "<br>\n",
    "<br>\n",
    "<font size=\"8\">QuantumQuipu/</font><br>\n",
    "<br>\n",
    "<br>\n",
    "<font size=\"15\"><b>QuantumScholars2023</b></font>\n",
    "<br>\n",
    "<br>\n",
    "<br>\n",
    "<br>\n",
    "<br>\n",
    "\n",
    "<div style=\"border-top: 20px solid #DE781F;\"></div>"
   ]
  },
  {
   "cell_type": "markdown",
   "metadata": {
    "_uuid": "1752ce061957fd1ce93d2e4db9494b7b29da7935",
    "id": "4skdndoa-7GI"
   },
   "source": [
    "**Autor:** Gustavo Valdivia Mera\\\n",
    "**Institución:** University of Houston\\\n",
    "**Correo:** gvaldiviamera@uh.edu\n",
    "          \n",
    "Este material está sujeto a los términos y condiciones de la licencia\n",
    "[Creative Commons CC BY-NC-SA 4.0](https://creativecommons.org/licenses/by-nc-sa/4.0/).\\\n",
    " Se permite el uso gratuito para cualquier propósito no comercial.\n",
    "\n",
    "*Puede consultar la última versión de este notebook en nuestro [repositorio](https://github.com/QuantumQuipu/QuantumScholars2023) y los videos de clase en nuestro canal de [Youtube](https://www.youtube.com/channel/UCze8vzQLcplutz0nWDNjFCA).*    "
   ]
  },
  {
   "cell_type": "markdown",
   "metadata": {
    "_uuid": "9b690f2c8129ad9445c544337375b93246c26668",
    "id": "Vm9O4SUd-7GJ"
   },
   "source": [
    "# <center> Sesión 4. Algoritmo de Deutsch-Jozsa\n",
    "    \n",
    "## Outline\n",
    "1. [Problema de Deutsch-Jozsa](#1.-Problema-de-Deutsch-Jozsa)\n",
    "2. [Modelo Computacional con Oráculo](#2.-Modelo-Computacional-con-Oráculo)\n",
    "3. [Algoritmo de Deutsch-Jozsa](#3.-Algoritmo-de-Deutsch-Jozsa)    "
   ]
  },
  {
   "cell_type": "markdown",
   "metadata": {},
   "source": [
    "Ahora realizaremos la generalización de los visto en el Algoritmo de Deutsch."
   ]
  },
  {
   "cell_type": "markdown",
   "metadata": {},
   "source": [
    "## 1. Problema de Deutsch-Jozsa\n",
    "\n",
    "Dada una función booleana \n",
    "$$f:\\{0,1\\}^n \\rightarrow \\{0, 1\\}$$\n",
    "donde\n",
    "\n",
    "- $f$ es constante si asigna el mismo valor de salida, ya sea 0 o 1, a cada una de las $2^n$ cadenas posibles.\n",
    "- $f$ es balanceada si asigna el valor de salida 0 a la mitad de las $2^n$ posibles cadenas, y el valor de salida 1 a la otra mitad.\n",
    "\n",
    "Diremos que  $f$ es un oráculo: Se puede determinar su comportamiento (si es constante o balanceada), mas no la forma explícita de la regla de correspondencia.\n",
    "\n",
    "Nuestro objetivo será determinar si $f$ es constante o balanceada."
   ]
  },
  {
   "cell_type": "markdown",
   "metadata": {},
   "source": [
    "## 2. Modelo Computacional con Oráculo\n",
    "\n",
    "\n",
    "### Solución Clásica\n",
    "\n",
    "Dada la función $f$, necesitamos evaluarla al menos $(\\frac{2^n}{2}+1)$ veces para obtener una respuesta usando una computadora clásica.\n",
    "\n",
    "### Solución Cuántica\n",
    "\n",
    "Toda función lógica clásica $f$ puede ser transformada en un operador unitario equivalente $U_f$ a través de la construcción de un circuito cuántico lógico. En este contexto, presentaremos un algoritmo cuántico que determina si $f$ es constante o balanceada al evaluar el operador $U_f$ en una única iteración."
   ]
  },
  {
   "cell_type": "markdown",
   "metadata": {},
   "source": [
    "## 3. Algoritmo de Deutsch-Jozsa\n",
    "\n",
    "Construimos un circuito de 2 qubits.\n",
    "\n",
    "- Establecemos el $(n+1)$-ésimo qubit en el estado $\\ket{-}$ aplicando las compuertas $X$ y $H$.\n",
    "\n",
    "- Aplicamos la compuerta $H$ a los primeros $n$ qubits.\n",
    "\n",
    "- Aplicamos $U_f$.\n",
    "\n",
    "- Aplicamos la compuerta $H$ a los primeros $n$ qubits.\n",
    "\n",
    "- Medimos los primeros $n$ qubits.\n",
    "\n",
    " <img src=\"img/adj_1.png\" width=\"50%\" align=\"center\">\n",
    "    </td></tr>"
   ]
  },
  {
   "cell_type": "markdown",
   "metadata": {},
   "source": [
    "### 3.1 Análisis"
   ]
  },
  {
   "cell_type": "markdown",
   "metadata": {},
   "source": [
    "### Operador oráculo $U_f$\n",
    "\n",
    " <img src=\"img/f_op.png\" width=\"35%\" align=\"center\">\n",
    "    </td></tr>\n",
    "\n",
    "Definimos\n",
    "$$U_f: \\ket{x}\\ket{y} \\mapsto \\ket{x}\\ket{y \\oplus f(x)}$$\n",
    "\n",
    "$$\\forall x\\in\\{0,1\\}^n, \\text{and }y\\in\\{0,1\\}$$\n",
    "\n",
    "Donde $\\oplus$ es el operador de disyunción exclusiva: XOR.\n",
    "\n",
    "Recordemos\n",
    "\n",
    "$$\n",
    "\\begin{array}{cc|c} \n",
    "y& f(x)& y\\oplus f(x)\\\\ \n",
    "\\hline\n",
    "0& 0 & 0 \\\\ \n",
    "0& 1 & 1 \\\\ \n",
    "1& 0 & 1 \\\\ \n",
    "1& 1 & 0 \\\\ \n",
    " \\end{array}\n",
    "$$"
   ]
  },
  {
   "cell_type": "markdown",
   "metadata": {},
   "source": [
    "Entonces, para $\\ket{x}\\ket{-}$ tenemos\n",
    "\\begin{align*}\n",
    "U_f\\ket{x}\\ket{-} &= U_f\\ket{x}\\left(\\frac{1}{\\sqrt{2}}\\ket{0}-\\frac{1}{\\sqrt{2}}\\ket{1}\\right)\\\\\n",
    "&=\\frac{1}{\\sqrt{2}}U_f\\ket{x}\\ket{0}-\\frac{1}{\\sqrt{2}}U_f\\ket{x}\\ket{1}\\\\\n",
    "&=\\frac{1}{\\sqrt{2}}\\ket{x}\\ket{0\\oplus f(x)}-\\frac{1}{\\sqrt{2}}\\ket{x}\\ket{1\\oplus f(x)}\n",
    "\\end{align*}\n",
    "\n",
    "Luego:\n",
    "\\begin{align*}\n",
    "U_f\\ket{x}\\ket{-}&=(-1)^{f(x)}\\ket{x}\\ket{-}\n",
    "\\\\\n",
    "\\end{align*}"
   ]
  },
  {
   "cell_type": "markdown",
   "metadata": {},
   "source": [
    "### Algoritmo\n",
    "\n",
    "Separamos nuestro circuito en diferentes instantes, de tal forma que podremos ver cómo se comporta el estado cuántico del circuito en cada paso."
   ]
  },
  {
   "cell_type": "markdown",
   "metadata": {},
   "source": [
    " <img src=\"img/adj_2.png\" width=\"50%\" align=\"center\">\n",
    "    </td></tr>"
   ]
  },
  {
   "cell_type": "markdown",
   "metadata": {},
   "source": [
    "Tenemos el estado inicial \n",
    "$$\\ket{\\psi_0} = \\ket{0}^{\\otimes n}\\ket{0}$$\n",
    "\n",
    "Luego aplicamos la compuerta $X$ al último qubit\n",
    "\\begin{align}\n",
    "\\ket{\\psi_1} &= \\ket{0}^{\\otimes n}X\\ket{0}\\\\\n",
    "&=\\ket{0}^{\\otimes n}\\ket{1}\n",
    "\\end{align}"
   ]
  },
  {
   "cell_type": "markdown",
   "metadata": {},
   "source": [
    "Aplicamos la compuerta $H$ a todos los qubits\n",
    "\n",
    "\\begin{align*}\n",
    "\\ket{\\psi_2} &= H^{\\otimes (n+1)}\\ket{\\psi_1}\\\\\n",
    "&= H^{\\otimes n}\\ket{0}^{\\otimes n}H\\ket{1}\\\\\n",
    "&= H^{\\otimes n}\\ket{0}^{\\otimes n}\\ket{-}\n",
    "\\end{align*}"
   ]
  },
  {
   "cell_type": "markdown",
   "metadata": {},
   "source": [
    "---\n",
    "\n",
    "Recordemos la forma general de $H\\ket{x}$, para $x \\in \\{0,1\\}$\n",
    "\n",
    "\\begin{align}\n",
    "H\\ket{x} &= \\frac{1}{\\sqrt{2}} \\left( \\ket{0} + (-1)^{x} \\ket{1} \\right)\\\\\n",
    "&= \\frac{1}{\\sqrt{2}} \\left( (-1)^{0x}\\ket{0} + (-1)^{1x} \\ket{1} \\right)\\\\\n",
    "&= \\frac{1}{\\sqrt{2}}\\sum_{z\\in\\{0,1\\}}(-1)^{xz}\\ket{z}\n",
    "\\end{align}\n",
    "\n",
    "---"
   ]
  },
  {
   "cell_type": "markdown",
   "metadata": {},
   "source": [
    "Entonces\n",
    "\\begin{align}\n",
    "\\ket{\\psi_2}&= H^{\\otimes n} \\ket{0}^{\\otimes n}\\ket{-}\\\\\n",
    "&=\\left(H\\ket{0}\\otimes H\\ket{0}\\otimes\\cdots \\otimes H\\ket{0}\\right)\\ket{-}\\\\\n",
    "&= \\left(\\frac{1}{\\sqrt{2}}\\sum_{z_1\\in\\{0,1\\}}\\ket{z_1}\\right) \\otimes \\left(\\frac{1}{\\sqrt{2}}\\sum_{z_2\\in\\{0,1\\}}\\ket{z_2} \\right) \\otimes \\cdots \\otimes \\left(\\frac{1}{\\sqrt{2}}\\sum_{z_n\\in\\{0,1\\}}\\ket{z_n}\\right)\\ket{-}\\\\\n",
    "&= \\frac{1}{\\sqrt{2^n}} \\sum_{z\\in\\{0,1\\}^n}\\ket{z}\\ket{-}\n",
    "\\end{align}"
   ]
  },
  {
   "cell_type": "markdown",
   "metadata": {},
   "source": [
    "A continuación, aplicamos $U_f$\n",
    "\\begin{align*}\n",
    "\\ket{\\psi_3}&=U_f\\ket{\\psi_2}\\\\\n",
    "\\ket{\\psi_3} &= U_f\\left(\\frac{1}{\\sqrt{2^n}} \\sum_{z\\in\\{0,1\\}^n}\\ket{z}\\ket{-}\\right) \\\\\n",
    "&= \\frac{1}{\\sqrt{2^n}} \\sum_{z\\in\\{0,1\\}^n}U_f\\ket{z}\\ket{-}\\\\\n",
    "&= \\left[\\frac{1}{\\sqrt{2^n}} \\sum_{z\\in\\{0,1\\}^n}(-1)^{f(z)}\\ket{z}\\right]\\ket{-}\n",
    "\\end{align*}"
   ]
  },
  {
   "cell_type": "markdown",
   "metadata": {},
   "source": [
    "Enfoquémonos en los primeros $n$ qubits\n",
    "$$\n",
    "\\ket{\\psi_{3,n}}=\\frac{1}{\\sqrt{2^n}} \\sum_{z\\in\\{0,1\\}^n}(-1)^{f(z)}\\ket{z}\n",
    "$$\n",
    "\n",
    "Aplicamos la compuerta $H$ a los primeros $n$ qubits\n",
    "\n",
    "\\begin{align}\n",
    "\\ket{\\psi_{4,n}}&=\\frac{1}{\\sqrt{2^n}} \\sum_{z\\in\\{0,1\\}^n}(-1)^{f(z)}H^{\\otimes n}\\ket{z}\n",
    "\\end{align}"
   ]
  },
  {
   "cell_type": "markdown",
   "metadata": {},
   "source": [
    "---\n",
    "\n",
    "Recordemos la forma general de $H^{\\otimes n}\\ket{x}$, para $x \\in \\{0,1\\}^n$\n",
    "\n",
    "\\begin{align}\n",
    "H^{\\otimes n}\\ket{x} &= H\\ket{x_1}\\otimes H\\ket{x_2}\\otimes\\cdots\\otimes H\\ket{x_n}\\\\\n",
    "&=\\frac{1}{\\sqrt{2}}\\sum_{z\\in\\{0,1\\}}(-1)^{x_1z_1}\\ket{z}\\otimes\\frac{1}{\\sqrt{2}}\\sum_{z\\in\\{0,1\\}}(-1)^{x_2z_2}\\ket{z}\\otimes\\cdots\\otimes\\frac{1}{\\sqrt{2}}\\sum_{z\\in\\{0,1\\}}(-1)^{x_nz_n}\\ket{z}\\\\\n",
    "&=\\frac{1}{\\sqrt{2^n}}\\sum_{z\\in\\{0,1\\}^n}(-1)^{x\\cdot z}\\ket{z}\n",
    "\\end{align}\n",
    "\n",
    "Donde\n",
    "\\begin{align}\n",
    "x \\cdot z &= \\sum_{i=1}^n x_iz_i \\pmod 2\\\\\n",
    "&=\\left(\\sum_{i=1}^n x_iz_i\\right)\\%2\\\\\n",
    "&=x_1z_1\\oplus x_2z_2\\oplus\\cdots\\oplus x_nz_n\n",
    "\\end{align}\n",
    "\n",
    "(comprobar el paso de la 2da a la 3ra línea)\n",
    "\n",
    "---"
   ]
  },
  {
   "cell_type": "markdown",
   "metadata": {},
   "source": [
    "Entonces\n",
    "\\begin{align}\n",
    "\\ket{\\psi_{4,n}}&=\\frac{1}{\\sqrt{2^n}} \\sum_{z\\in\\{0,1\\}^n}(-1)^{f(z)}\\left(\\frac{1}{\\sqrt{2^n}}\\sum_{x\\in\\{0,1\\}^n}(-1)^{z\\cdot x}\\ket{x}\\right)\\\\\n",
    "&=\\frac{1}{2^n} \\sum_{z\\in\\{0,1\\}^n}\\sum_{x\\in\\{0,1\\}^n}(-1)^{f(z)+z\\cdot x}\\ket{x}\n",
    "\\end{align}\n",
    "\n",
    "Analicemos la amplitud de probabilidad para que $\\ket{\\psi_{4,n}}$ se encuentre en el esatdo $\\ket{0}^{\\otimes n}$\n",
    "\n",
    "\\begin{align}\n",
    "\\braket{0^n}{\\psi_{4,n}}=&\\frac{1}{2^n} \\sum_{z\\in\\{0,1\\}^n}\\sum_{x\\in\\{0,1\\}^n}(-1)^{f(z)+z\\cdot x}\\braket{0^n}{x}\\\\\n",
    "&=\\frac{1}{2^n} \\sum_{z\\in\\{0,1\\}^n}(-1)^{f(z)}\n",
    "\\end{align}\n",
    "\n",
    "(comprobar el paso de la 1ra a la 2da línea)"
   ]
  },
  {
   "cell_type": "markdown",
   "metadata": {},
   "source": [
    "Tenemos:\n",
    "\n",
    "#### 1. $f$ es constante:\n",
    "\n",
    "Tenemos \n",
    "$$\n",
    "f(z)=c\\,\\,\\,\\,,\\,\\,\\,\\,\\forall z\\in\\{0,1\\}^n\n",
    "$$\n",
    "\n",
    "Entonces\n",
    "\\begin{align}\n",
    "\\braket{0^n}{\\psi_{4,n}}&=\\frac{1}{2^n} \\sum_{z\\in\\{0,1\\}^n}(-1)^c\\\\\n",
    "&=(-1)^c\\\\\n",
    "&=\\pm 1\n",
    "\\end{align}\n",
    "\n",
    "Por lo tanto, si $f$ es constante el estado $\\ket{0}^{\\otimes n}$ tendrá probabilidad 1 de ser medido."
   ]
  },
  {
   "cell_type": "markdown",
   "metadata": {},
   "source": [
    "####  2. $f$ es balanceada:\n",
    "\n",
    "Tenemos \n",
    "\\begin{align}\n",
    "\\braket{0^n}{\\psi_{4,n}}&=\\frac{1}{2^n} \\sum_{z\\in\\{0,1\\}^n}(-1)^{f(z)}\\\\\n",
    "&=\\frac{1}{2^n}\\left(\\underbrace{(-1)^0+(-1)^0+\\cdots +(-1)^0}_{\\frac{2^n}{2}\\,\\,\\text{elementos}}+\\underbrace{(-1)^1+(-1)^1+\\cdots +(-1)^1}_{\\frac{2^n}{2}\\,\\,\\text{elementos}}\\right)\\\\\n",
    "&=0\n",
    "\\end{align}\n",
    "\n",
    "Por lo tanto, si $f$ es balanceada el estado $\\ket{0}^{\\otimes n}$ tendrá probabilidad 0 de ser medido."
   ]
  },
  {
   "cell_type": "markdown",
   "metadata": {},
   "source": [
    "## Conclusión\n",
    "\n",
    "El algoritmo de Deutsch-Jozsa determina con un 100% de certeza si $f$ es constante o balanceada haciendo una sola consulta en lugar de $(\\frac{2^n}{2}+1)$: Si al realizar la medición luego de la primera (y única) consulta obtenemos $\\ket{0}^{\\otimes n}$, entonces la función es constante, de lo contrario será balanceada. "
   ]
  },
  {
   "cell_type": "markdown",
   "metadata": {},
   "source": [
    "# Apéndice\n",
    "\n",
    "#### ¿Podemos crear un Oráculo?\n",
    "\n",
    "$$U_f\\ket{x}\\ket{y}=\\ket{x}\\ket{y \\oplus f(x)}$$\n",
    "\n",
    "¡SÍ! \n",
    "\n",
    "Veamos los siguientes pasos:"
   ]
  },
  {
   "cell_type": "markdown",
   "metadata": {},
   "source": [
    "1. Si $f(x)$ es constante:\n",
    "- Entonces solo puede ser igual a 0 o 1, sin posibilidad de alternar entre ambos valores."
   ]
  },
  {
   "cell_type": "markdown",
   "metadata": {},
   "source": [
    "<img src=\"img/adj_3.png\" width=\"60%\" align=\"center\">\n",
    "    </td></tr>"
   ]
  },
  {
   "cell_type": "markdown",
   "metadata": {},
   "source": [
    "Tenemos\n",
    "\n",
    "$$\n",
    "\\begin{array}{c|c|c}\n",
    " & f(x)=0 & f(x)=1 \\\\\n",
    "\\hline\n",
    "y=0 & y\\oplus f(x)=0 & y\\oplus f(x)=1 \\\\\n",
    "\\hline\n",
    "y=1 & y\\oplus f(x)=1 & y\\oplus f(x)=0 \\\\\n",
    "\\end{array}\n",
    "$$\n"
   ]
  },
  {
   "cell_type": "markdown",
   "metadata": {},
   "source": [
    "Luego\n",
    "\n",
    "<img src=\"img/adj_4.png\" width=\"70%\" align=\"center\">\n",
    "    </td></tr>"
   ]
  },
  {
   "cell_type": "markdown",
   "metadata": {},
   "source": [
    "2. Si $f(x)$ es balanceada:\n",
    "- Construir $f(x)$ a partir de una referencia básica (operador XOR).\n",
    "\n",
    "Veamos un caso sencillo: $x\\in\\{0,1\\}^2$. \n",
    "\n",
    "Definimos $f(x)$ usando el operador XOR:\n",
    "\n",
    "$$\n",
    "\\begin{array}{cc|c} \n",
    "x_1& x_2& f(x_1,x_2)=x_1\\oplus x_2\\\\ \n",
    "\\hline\n",
    "0& 0 & 0 \\\\ \n",
    "0& 1 & 1 \\\\ \n",
    "1& 0 & 1 \\\\ \n",
    "1& 1 & 0 \\\\ \n",
    " \\end{array}\n",
    "$$"
   ]
  },
  {
   "cell_type": "markdown",
   "metadata": {},
   "source": [
    "- Implementa $f(x)$ en el circuito formado por $\\ket{x}$ y un qubit auxiliar $\\ket{0}$ que tendrá como estado de salida $\\ket{f(x)}$:\n",
    "\n",
    "<img src=\"img/adj_5.png\" width=\"80%\" align=\"center\">\n",
    "    </td></tr>\n",
    "\n",
    "Notemos que si usamos $\\ket{1}$, en lugar de $\\ket{0}$, como qubit auxiliar, el valor de salida será $X\\ket{f(x)}$ :\n",
    "\n",
    "<img src=\"img/adj_6.png\" width=\"80%\" align=\"center\">\n",
    "    </td></tr>"
   ]
  },
  {
   "cell_type": "markdown",
   "metadata": {},
   "source": [
    "- Ahora podemos implementar el oráculo correspondiente a la función $f(x)$: solo debemos cambiar el qubit auxiliar $\\ket{0}$ por $\\ket{y}$\n",
    "\n",
    "<img src=\"img/adj_7.png\" width=\"80%\" align=\"center\">\n",
    "    </td></tr>\n",
    "    \n",
    "Donde $f(x)$ está dado por:\n",
    "\n",
    "$$\n",
    "\\begin{array}{cc|c} \n",
    "x_1& x_2& f(x_1,x_2)=x_1\\oplus x_2\\\\ \n",
    "\\hline\n",
    "0& 0 & 0 \\\\ \n",
    "0& 1 & 1 \\\\ \n",
    "1& 0 & 1 \\\\ \n",
    "1& 1 & 0 \\\\ \n",
    " \\end{array}\n",
    "$$"
   ]
  },
  {
   "cell_type": "markdown",
   "metadata": {},
   "source": [
    "Esto se puede generalizar para $x\\in\\{0,1\\}^n$\n",
    "\n",
    "<img src=\"img/adj_8.png\" width=\"80%\" align=\"center\">\n",
    "    </td></tr>\n",
    "    \n",
    "Donde \n",
    "\n",
    "$$\n",
    "f(x)=x_1\\oplus x_2\\oplus\\cdots\\oplus x_n\n",
    "$$\n",
    "\n",
    "Por ejemplo, para $x\\in\\{0,1\\}^4$ tenemos:\n",
    "\n",
    "$$\n",
    "\\begin{array}{c|c} \n",
    "f(x)=0 & f(x)=1\\\\ \n",
    "\\hline\n",
    "0000& 0001 \\\\ \n",
    "0011& 0010 \\\\ \n",
    "0101& 0100 \\\\ \n",
    "0110& 0111 \\\\\n",
    "1001& 1000\\\\\n",
    "1010& 1011 \\\\\n",
    "1100& 1101 \\\\\n",
    "1111& 1110 \\\\\n",
    " \\end{array}\n",
    "$$"
   ]
  },
  {
   "cell_type": "markdown",
   "metadata": {},
   "source": [
    "### ¿Será está la única forma de $U_f$?\n",
    "\n",
    "¡NO!\n",
    "\n",
    "Se pueden implementar tantos cambios sean posibles manteniendo el comportamiento de la función (ser balanceada), siempre y cuando no se altere la forma del ket de entrada $\\ket{x}$.\n",
    "\n",
    "Veamos un ejemplo para $x\\in\\{0,1\\}^4$\n",
    "\n",
    "<img src=\"img/adj_9.png\" width=\"80%\" align=\"center\">\n",
    "    </td></tr>\n",
    "    \n",
    "Donde \n",
    "\n",
    "$$\n",
    "\\begin{array}{c|c} \n",
    "f(x)=0 & f(x)=1\\\\ \n",
    "\\hline\n",
    "0001& 0000\\\\ \n",
    "0010& 0011\\\\ \n",
    "0100& 0101\\\\ \n",
    "0111& 0110\\\\\n",
    "1000& 1001\\\\\n",
    "1011& 1010\\\\\n",
    "1101& 1100\\\\\n",
    " 1110& 1111\\\\\n",
    " \\end{array}\n",
    "$$"
   ]
  },
  {
   "cell_type": "markdown",
   "metadata": {
    "id": "6ucKfX5Q-7Ga"
   },
   "source": [
    "---\n",
    "\n",
    "## 5. Recursos útiles\n",
    "\n",
    "[1] David Deutsch and Richard Jozsa (1992). \"Rapid solutions of problems by quantum computation\".\\\n",
    "Proceedings of the Royal Society of London A. 439: 553–558. [doi:10.1098/rspa.1992.0167](https://royalsocietypublishing.org/doi/10.1098/rspa.1992.0167).\n",
    "\n",
    "[2] [Qiksit: Deutsch-Jozsa Algorithm](https://learn.qiskit.org/course/ch-algorithms/deutsch-jozsa-algorithm)\n",
    "\n",
    "---"
   ]
  },
  {
   "cell_type": "markdown",
   "metadata": {},
   "source": [
    "## Donaciones\n",
    "<br>\n",
    "Puedes donar una vez en el siguiente enlace (Ko-Fi)\n",
    "\n",
    "<a href=\"https://ko-fi.com/rcrdphysics\">\n",
    "<img src=\"https://habrastorage.org/webt/8r/ml/xf/8rmlxfpdzukegpxa62cxlfvgkqe.png\" width=20% />\n",
    "\n",
    "</center>"
   ]
  }
 ],
 "metadata": {
  "kernelspec": {
   "display_name": "Python 3 (ipykernel)",
   "language": "python",
   "name": "python3"
  },
  "language_info": {
   "codemirror_mode": {
    "name": "ipython",
    "version": 3
   },
   "file_extension": ".py",
   "mimetype": "text/x-python",
   "name": "python",
   "nbconvert_exporter": "python",
   "pygments_lexer": "ipython3",
   "version": "3.11.3"
  }
 },
 "nbformat": 4,
 "nbformat_minor": 4
}
