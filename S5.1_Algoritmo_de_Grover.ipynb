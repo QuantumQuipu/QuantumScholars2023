{
 "cells": [
  {
   "cell_type": "markdown",
   "metadata": {},
   "source": [
    "<table width=\"100%\"><tr><td style=\"color:#bbbbbb;background-color:#ffffff;font-size:11px;font-style:italic;text-align:right;\"></td></tr></table>\n",
    "$ \\newcommand{\\bra}[1]{\\langle #1|} $\n",
    "$ \\newcommand{\\ket}[1]{|#1\\rangle} $\n",
    "$ \\newcommand{\\braket}[2]{\\langle #1|#2\\rangle} $\n",
    "$ \\newcommand{\\dot}[2]{ #1 \\cdot #2} $\n",
    "$ \\newcommand{\\biginner}[2]{\\left\\langle #1,#2\\right\\rangle} $\n",
    "$ \\newcommand{\\mymatrix}[2]{\\left( \\begin{array}{#1} #2\\end{array} \\right)} $\n",
    "$ \\newcommand{\\myvector}[1]{\\mymatrix{c}{#1}} $\n",
    "$ \\newcommand{\\myrvector}[1]{\\mymatrix{r}{#1}} $\n",
    "$ \\newcommand{\\mypar}[1]{\\left( #1 \\right)} $\n",
    "$ \\newcommand{\\mybigpar}[1]{ \\Big( #1 \\Big)} $\n",
    "$ \\newcommand{\\sqrttwo}{\\frac{1}{\\sqrt{2}}} $\n",
    "$ \\newcommand{\\dsqrttwo}{\\dfrac{1}{\\sqrt{2}}} $\n",
    "$ \\newcommand{\\onehalf}{\\frac{1}{2}} $\n",
    "$ \\newcommand{\\donehalf}{\\dfrac{1}{2}} $\n",
    "$ \\newcommand{\\hadamard}{ \\mymatrix{rr}{ \\sqrttwo & \\sqrttwo \\\\ \\sqrttwo & -\\sqrttwo }} $\n",
    "$ \\newcommand{\\vzero}{\\myvector{1\\\\0}} $\n",
    "$ \\newcommand{\\vone}{\\myvector{0\\\\1}} $\n",
    "$ \\newcommand{\\stateplus}{\\myvector{ \\sqrttwo \\\\  \\sqrttwo } } $\n",
    "$ \\newcommand{\\stateminus}{ \\myrvector{ \\sqrttwo \\\\ -\\sqrttwo } } $\n",
    "$ \\newcommand{\\myarray}[2]{ \\begin{array}{#1}#2\\end{array}} $\n",
    "$ \\newcommand{\\X}{ \\mymatrix{cc}{0 & 1 \\\\ 1 & 0}  } $\n",
    "$ \\newcommand{\\Z}{ \\mymatrix{rr}{1 & 0 \\\\ 0 & -1}  } $\n",
    "$ \\newcommand{\\Htwo}{ \\mymatrix{rrrr}{ \\frac{1}{2} & \\frac{1}{2} & \\frac{1}{2} & \\frac{1}{2} \\\\ \\frac{1}{2} & -\\frac{1}{2} & \\frac{1}{2} & -\\frac{1}{2} \\\\ \\frac{1}{2} & \\frac{1}{2} & -\\frac{1}{2} & -\\frac{1}{2} \\\\ \\frac{1}{2} & -\\frac{1}{2} & -\\frac{1}{2} & \\frac{1}{2} } } $\n",
    "$ \\newcommand{\\CNOT}{ \\mymatrix{cccc}{1 & 0 & 0 & 0 \\\\ 0 & 1 & 0 & 0 \\\\ 0 & 0 & 0 & 1 \\\\ 0 & 0 & 1 & 0} } $\n",
    "$ \\newcommand{\\norm}[1]{ \\left\\lVert #1 \\right\\rVert } $\n",
    "$ \\newcommand{\\pstate}[1]{ \\lceil \\mspace{-1mu} #1 \\mspace{-1.5mu} \\rfloor } $\n",
    "\n",
    "<img style=\"float: right;\" src=\"https://avatars.githubusercontent.com/u/141567859?s=200&v=4\">\n",
    "    \n",
    "<br>\n",
    "<br>\n",
    "<br>\n",
    "<font size=\"8\">QuantumQuipu/</font><br>\n",
    "<br>\n",
    "<br>\n",
    "<font size=\"15\"><b>QuantumScholars2023</b></font>\n",
    "<br>\n",
    "<br>\n",
    "<br>\n",
    "<br>\n",
    "<br>\n",
    "\n",
    "<div style=\"border-top: 20px solid #DE781F;\"></div>"
   ]
  },
  {
   "cell_type": "markdown",
   "metadata": {
    "_uuid": "1752ce061957fd1ce93d2e4db9494b7b29da7935",
    "id": "4skdndoa-7GI"
   },
   "source": [
    "**Autor:** Gustavo Valdivia Mera\\\n",
    "**Institución:** University of Houston\\\n",
    "**Correo:** gvaldiviamera@uh.edu\n",
    "          \n",
    "Este material está sujeto a los términos y condiciones de la licencia\n",
    "[Creative Commons CC BY-NC-SA 4.0](https://creativecommons.org/licenses/by-nc-sa/4.0/).\\\n",
    " Se permite el uso gratuito para cualquier propósito no comercial.\n",
    "\n",
    "*Puede consultar la última versión de este notebook en nuestro [repositorio](https://github.com/QuantumQuipu/QuantumScholars2023) y los videos de clase en nuestro canal de [Youtube](https://www.youtube.com/channel/UCze8vzQLcplutz0nWDNjFCA).*    "
   ]
  },
  {
   "cell_type": "markdown",
   "metadata": {
    "_uuid": "9b690f2c8129ad9445c544337375b93246c26668",
    "id": "Vm9O4SUd-7GJ"
   },
   "source": [
    "# <center> Sesión 5. Algoritmo de Grover\n",
    "    \n",
    "## Outline\n",
    "1. [Problema](#1.-Problema)\n",
    "2. [Modelo Computacional con Oráculo](#2.-Modelo-Computacional-con-Oráculo)\n",
    "3. [Algoritmo de Grover](#3.-Algoritmo-de-Grover) \n",
    "3. [Conclusión](#Conclusión) "
   ]
  },
  {
   "cell_type": "markdown",
   "metadata": {},
   "source": [
    "## 1. Problema\n",
    "\n",
    "Supongamos que tenemos una lista de $N$ elementos; tal que, entre ellos existe un grupo de elementos que deseamos encontrar. Para ello, debido a sus atributos (características), estos elementos serán \"marcados\" con la finalidad de poder ser detectados.\n",
    "\n",
    "* Por ejemplo: En la siguiente lista de $N$ elementos se ha marcado el objeto $\\omega$ para su búsqueda: Notamos que es la celda de distinto color.\n",
    "\n",
    "<img src=\"imagenes/sesion5/ag_1.png\" width=\"50%\" align=\"center\">\n",
    "    </td></tr>\n",
    "    \n",
    "Nuestro objetivo será determinar los elementos marcados de la forma más breve posible."
   ]
  },
  {
   "cell_type": "markdown",
   "metadata": {},
   "source": [
    "## 2. Modelo Computacional con Oráculo\n",
    "\n",
    "Sea $\\omega \\in \\{0,1\\}^n$\n",
    "### Solución Clásica\n",
    "\n",
    "En el peor de los casos necesitamos $N=2^n$ intentos para encontrar la cadena $\\omega$ (suponiendo que $\\omega$ es un solo elemento).\n",
    "\n",
    "### Solución Cuántica\n",
    "\n",
    "Para la solución cuántica requerimos la implementación de dos operadores:\n",
    "\n",
    "1. Oráculo: Este operador se encarga de marcar los estados deseados.\n",
    "2. Difusión: Este operador amplifica los estados marcados de tal forma que al final del algoritmo, estos tendrán la mayor probabilidad\n",
    "\n",
    " <img src=\"imagenes/sesion5/ag_2.png\" width=\"50%\" align=\"center\">\n",
    "    </td></tr>"
   ]
  },
  {
   "cell_type": "markdown",
   "metadata": {},
   "source": [
    "## 3. Algoritmo de Grover\n",
    "\n",
    "Construimos un circuito de $n$ qubits. Luego:\n",
    "\n",
    "- Aplicamos la compuerta $H$ a todos los qubits.\n",
    "- Aplicamos el oráculo $U_f$ y luego el difusor $U_\\omega$.\n",
    "- Repetimos $k$ veces la aplicación de $U_\\omega U_f$, y finalmente medimos.\n",
    "\n",
    " <img src=\"imagenes/sesion5/ag_3.png\" width=\"50%\" align=\"center\">\n",
    "    </td></tr>"
   ]
  },
  {
   "cell_type": "markdown",
   "metadata": {},
   "source": [
    "### 3.1 Análisis"
   ]
  },
  {
   "cell_type": "markdown",
   "metadata": {},
   "source": [
    "### Operador oráculo $U_f$\n",
    "\n",
    "Definimos\n",
    "\\begin{align}\n",
    "U_f\\ket{x}=(-1)^{f(x)}\\ket{x}\\,\\,\\,\\,,\\,\\,\\,\\,x\\in\\{0,1\\}^n\n",
    "\\end{align}\n",
    "\n",
    "Tal que\n",
    "\\begin{align}\n",
    "f(x)=\\begin{cases}0&:\\,\\,x\\neq \\omega\\\\1&:\\,\\,x=\\omega\\end{cases}\n",
    "\\end{align}\n",
    "\n",
    "o también\n",
    "\n",
    "\\begin{align}\n",
    "U_f\\ket{x}=\\begin{cases}\\ket{x}&:\\,\\,x\\neq \\omega\\\\-\\ket{x}&:\\,\\,x=\\omega\\end{cases}\\,\\,\\,\\,,\\,\\,\\,\\,x\\in\\{0,1\\}^n\n",
    "\\end{align}\n",
    "\n",
    "Donde $\\ket{\\omega}$ representa los estados que deseamos marcar.\n",
    "\n",
    "### Operador difusor $U_\\omega$\n",
    "\n",
    "Definimos\n",
    "\\begin{align}\n",
    "U_\\omega=2\\ket{s}\\bra{s}-\\mathbb{I}\n",
    "\\end{align}\n",
    "\n",
    "Donde\n",
    "\\begin{align}\n",
    "\\ket{s}&:=H^{\\otimes n}\\ket{0}^{\\otimes n}\\\\\n",
    "&=\\frac{1}{\\sqrt{2^n}}\\sum_{x\\in\\{0,1\\}^n}\\ket{x}\n",
    "\\end{align}\n",
    "\n",
    "#### ¿Cómo aplica $U_\\omega$ en un circuito cuántico?\n",
    "\\begin{align}\n",
    "U_\\omega&=2\\ket{s}\\bra{s}-\\mathbb{I}\\\\\n",
    "&=H^{\\otimes n}(2\\ket{0}^{\\otimes n}\\bra{0}^{\\otimes n}-\\mathbb{I})H^{\\otimes n}\\\\\n",
    "&=H^{\\otimes n}U_0H^{\\otimes n}\n",
    "\\end{align}\n",
    "\n",
    "Donde\n",
    "\\begin{align}\n",
    "U_0\\ket{x}=\\begin{cases}\\ket{x}&:\\,\\,x\\neq 0^n\\\\-\\ket{x}&:\\,\\,x=0^n\\end{cases}\n",
    "\\end{align}\n",
    "\n",
    "Por lo tanto, el operador $U_0$ se aplicará de la siguiente forma en nuestro circuito\n",
    "<img src=\"imagenes/sesion5/u0.png\" width=\"30%\" align=\"center\">\n",
    "    </td></tr>"
   ]
  },
  {
   "cell_type": "markdown",
   "metadata": {},
   "source": [
    "### Algoritmo"
   ]
  },
  {
   "cell_type": "markdown",
   "metadata": {},
   "source": [
    " <img src=\"imagenes/sesion5/ag_4.png\" width=\"70%\" align=\"center\">\n",
    "    </td></tr>"
   ]
  },
  {
   "cell_type": "markdown",
   "metadata": {},
   "source": [
    "Tenemos el estado inicial \n",
    "$$\\ket{\\psi_0} = \\ket{0}^{\\otimes n}$$\n",
    "\n",
    "Luego aplicamos la compuerta $H$ a todos los qubits\n",
    "\\begin{align}\n",
    "\\ket{\\psi_1} =H^{\\otimes n}\\ket{0}^{\\otimes n}\n",
    "\\end{align}"
   ]
  },
  {
   "cell_type": "markdown",
   "metadata": {},
   "source": [
    "Sea $A$ el conjunto de los estados (equiprobables) deseados\n",
    "\\begin{align}\n",
    "A=&\\{x\\in\\{0,1\\}^n | f(x)=1\\} \\,\\,\\,\\,\\mapsto\\,\\,\\,\\,\\ket{A}=\\frac{1}{\\sqrt{a}}\\sum_{x\\in A}\\ket{x}\\,\\,\\,\\,(\\text{Ket de estados deseados})\\\\\n",
    "a:&\\,\\,\\text{Cantidad de estados deseados}\n",
    "\\end{align}\n",
    "\n",
    "Sea $B$ el conjunto de los estados (equiprobables) no deseados\n",
    "\\begin{align}\n",
    "B=&\\{y\\in\\{0,1\\}^n | f(y)=0\\} \\,\\,\\,\\,\\mapsto\\,\\,\\,\\,\\ket{B}=\\frac{1}{\\sqrt{b}}\\sum_{y\\in B}\\ket{y}\\,\\,\\,\\,(\\text{Ket de estados no deseados})\\\\\n",
    "b:&\\,\\,\\text{Cantidad de estados no deseados}\n",
    "\\end{align}"
   ]
  },
  {
   "cell_type": "markdown",
   "metadata": {},
   "source": [
    "Entonces\n",
    "\\begin{align}\n",
    "\\ket{\\psi_1}&=H^{\\otimes n}\\ket{0}^{\\otimes n}\\\\\n",
    "&=\\frac{1}{\\sqrt{2^n}}\\sum_{x\\in\\{0,1\\}^n}\\ket{x}\\\\\n",
    "&=\\frac{1}{\\sqrt{2^n}}\\sum_{x\\in A}\\ket{x}+\\frac{1}{\\sqrt{2^n}}\\sum_{y\\in B}\\ket{y}\\\\\n",
    "&=\\sqrt{\\frac{a}{2^n}}\\left(\\frac{1}{\\sqrt{a}}\\sum_{x\\in A}\\ket{x}\\right)+\\sqrt{\\frac{b}{2^n}}\\left(\\frac{1}{\\sqrt{b}}\\sum_{y\\in B}\\ket{y}\\right)\\\\\n",
    "&=\\sqrt{\\frac{a}{2^n}}\\ket{A}+\\sqrt{\\frac{b}{2^n}}\\ket{B}\n",
    "\\end{align}\n",
    "\n",
    "Como sabemos $\\ket{s}=H^{\\otimes n}\\ket{0}^{\\otimes n}$, entonces\n",
    "\\begin{align}\n",
    "\\ket{s}&=\\ket{\\psi_1}\\\\\n",
    "&=\\sqrt{\\frac{a}{2^n}}\\ket{A}+\\sqrt{\\frac{b}{2^n}}\\ket{B}\n",
    "\\end{align}"
   ]
  },
  {
   "cell_type": "markdown",
   "metadata": {},
   "source": [
    "Notamos que $\\ket{s}$ se puede visualizar como un vector en el plano dado por los ejes $\\ket{B}$ y $\\ket{A}$\n",
    " <img src=\"imagenes/sesion5/ag_5.png\" width=\"30%\" align=\"center\">\n",
    "    </td></tr>"
   ]
  },
  {
   "cell_type": "markdown",
   "metadata": {},
   "source": [
    "Entonces\n",
    "\\begin{align}\n",
    "\\ket{s}&=\\sin\\theta\\ket{A}+\\cos\\theta\\ket{B}\n",
    "\\end{align}\n",
    "\n",
    "\\begin{align}\n",
    "&\\sin\\theta=\\sqrt{\\frac{a}{2^n}}\\\\\n",
    "&\\cos\\theta=\\sqrt{\\frac{b}{2^n}}\n",
    "\\end{align}"
   ]
  },
  {
   "cell_type": "markdown",
   "metadata": {},
   "source": [
    "A continuación, aplicamos $U_f$\n",
    "\\begin{align}\n",
    "\\ket{\\psi_2}&=U_f\\ket{s}\\\\\n",
    "&=U_f\\left(\\sqrt{\\frac{a}{2^n}}\\ket{A}+\\sqrt{\\frac{b}{2^n}}\\ket{B}\\right)\\\\\n",
    "&=\\sqrt{\\frac{a}{2^n}}U_f\\ket{A}+\\sqrt{\\frac{b}{2^n}}U_f\\ket{B}\\\\\n",
    "&=\\sqrt{\\frac{a}{2^n}}(-1)^{f(A)}\\ket{A}+\\sqrt{\\frac{b}{2^n}}(-1)^{f(B)}\\ket{B}\\\\\n",
    "&=-\\sqrt{\\frac{a}{2^n}}\\ket{A}+\\sqrt{\\frac{b}{2^n}}\\ket{B}\n",
    "\\end{align}\n",
    "\n",
    "Notamos que el oráculo $U_f$ marca los estados deseados ($f(x)=1,\\,\\,\\forall x\\in A$) haciendo $\\ket{A}\\to -\\ket{A}$. De esta forma, en el plano esto se verá como la reflexión del estado $\\ket{s}$ alrededor de $\\ket{B}$\n",
    " <img src=\"imagenes/sesion5/ag_6.png\" width=\"30%\" align=\"center\">\n",
    "    </td></tr>"
   ]
  },
  {
   "cell_type": "markdown",
   "metadata": {},
   "source": [
    "Aplicamos el difusor $U_\\omega$\n",
    "\\begin{align}\n",
    "\\ket{\\psi_3}&=U_\\omega\\ket{\\psi_2}\\\\\n",
    "&=\\left(2\\ket{s}\\bra{s}-\\mathbb{I}\\right)\\left(-\\sqrt{\\frac{a}{2^n}}\\ket{A}+\\sqrt{\\frac{b}{2^n}}\\ket{B}\\right)\n",
    "\\end{align}\n",
    "\n",
    "Usando\n",
    "\\begin{align}\n",
    "\\ket{s}\\bra{s}=\\frac{a}{2^n}\\ket{A}\\bra{A}+\\frac{b}{2^n}\\ket{B}\\bra{B}+\\frac{\\sqrt{ab}}{2^n}\\left[\\ket{A}\\bra{B}+\\ket{B}\\bra{A}\\right]\n",
    "\\end{align}\n",
    "\n",
    "Tenemos\n",
    "\\begin{align}\n",
    "\\ket{\\psi_3}=\\sin 3\\theta\\ket{A}+\\cos 3\\theta\\ket{B}\n",
    "\\end{align}\n",
    "\n",
    "Notamos que el efecto final luego de aplicar el oráculo y el difusor, $U_\\omega U_f$, sobre $\\ket{s}$,\n",
    "\n",
    "\\begin{align}\n",
    "\\ket{\\psi_3}=U_\\omega U_f\\ket{s}\n",
    "\\end{align}\n",
    "\n",
    "es una rotación antihoraria de dicho estado en un ángulp de $2\\theta$\n",
    "\n",
    "\\begin{align}\n",
    "\\ket{\\psi_3}&=\\sin (2\\theta+\\theta)\\ket{A}+\\cos (2\\theta+\\theta)\\ket{B}\\\\\n",
    "&=R(2\\theta)\\ket{s}\n",
    "\\end{align}\n",
    "<img src=\"imagenes/sesion5/ag_7.png\" width=\"30%\" align=\"center\">\n",
    "    </td></tr>"
   ]
  },
  {
   "cell_type": "markdown",
   "metadata": {},
   "source": [
    "Finalmente, luego de aplicar $k$ veces $U_\\omega U_f$ sobre $\\ket{s}$, tenemos el estado final $\\ket{\\psi_f}$\n",
    "\n",
    "\\begin{align}\n",
    "\\ket{\\psi_f}=\\underbrace{(U_\\omega U_f)(U_\\omega U_f)\\cdots(U_\\omega U_f)}_{k\\,\\,\\text{veces}}\\ket{s}\n",
    "\\end{align}\n",
    "\n",
    "El cual será el resultado de la rotación del estado $\\ket{s}$ para un ámngulo de $2k\\theta$\n",
    "\n",
    "\\begin{align}\n",
    "\\ket{\\psi_f}&=R(2k\\theta)\\ket{s}\\\\\n",
    "&=\\sin (2k\\theta+\\theta)\\ket{A}+\\cos (2k\\theta+\\theta)\\ket{B}\n",
    "\\end{align}\n",
    "\n",
    "El valor de $k$ será tal que el estado final sea igual al Ket de estados deseados: $\\ket{A}$\n",
    "<img src=\"imagenes/sesion5/ag_8.png\" width=\"30%\" align=\"center\">\n",
    "    </td></tr>\n",
    "\n",
    "\\begin{align}\n",
    "\\ket{\\psi_f}&=\\sin (2k\\theta+\\theta)\\ket{A}+\\cos (2k\\theta+\\theta)\\ket{B}\\\\\n",
    "&=\\ket{A}\n",
    "\\end{align}\n",
    "\n",
    "Luego (la suposición más sencilla)\n",
    "\\begin{align}\n",
    "2k\\theta+\\theta=\\frac{\\pi}{2}\n",
    "\\end{align}\n",
    "\n",
    "Tenemos\n",
    "\\begin{align}\n",
    "k=\\frac{\\pi}{4\\theta}-\\frac{1}{2}\n",
    "\\end{align}\n",
    "\n",
    "Asimismo, sabemos que $\\sin\\theta=\\sqrt{\\frac{a}{2^n}}$, entonces para $\\sin\\theta=\\sqrt{\\frac{a}{2^n}}\\ll 1$  tenemos\n",
    "\n",
    "\\begin{align}\n",
    "\\theta\\approx\\sqrt{\\frac{a}{2^n}}\n",
    "\\end{align}\n",
    "\n",
    "Finalmente, el número de veces que debemos aplicar $U_\\omega U_f$ sobre $\\ket{s}$ para maximizar la probabilidad de los estados deseados es\n",
    "\n",
    "\\begin{align}\n",
    "k\\approx\\frac{\\pi}{4}\\sqrt{\\frac{2^n}{a}}\n",
    "\\end{align}\n"
   ]
  },
  {
   "cell_type": "markdown",
   "metadata": {},
   "source": [
    "## Conclusión\n",
    "\n",
    "1. El algoritmo de Grover representa una contribución importante para la búsqueda cuántica, permitiendo una mejora cuadrática en el tiempo de búsqueda en comparación con la computación clásica.\n",
    "\n",
    "$$\n",
    "\\text{Cuántico:}\\sim\\sqrt{2^n}\n",
    "$$\n",
    "$$\n",
    "\\text{Clásico:}\\sim 2^n\n",
    "$$\n",
    "\n",
    "2. Sin embargo, su utilidad práctica está limitada por la modesta aceleración en problemas con grandes bases de datos."
   ]
  },
  {
   "cell_type": "markdown",
   "metadata": {
    "id": "6ucKfX5Q-7Ga"
   },
   "source": [
    "---\n",
    "\n",
    "## 5. Recursos útiles\n",
    "\n",
    "[1] Grover L.K.: [A fast quantum mechanical algorithm for database search](https://arxiv.org/abs/quant-ph/9605043),\n",
    "\n",
    "Proceedings, 28th Annual ACM Symposium on the Theory of Computing, (May 1996).\n",
    "\n",
    "[2] [Qiksit: Grover’s Algorithm\n",
    "](https://learn.qiskit.org/course/ch-algorithms/grovers-algorithm)\n",
    "\n",
    "---"
   ]
  },
  {
   "cell_type": "markdown",
   "metadata": {},
   "source": [
    "## Donaciones\n",
    "<br>\n",
    "Puedes donar una vez en el siguiente enlace (Ko-Fi)\n",
    "\n",
    "<a href=\"https://ko-fi.com/rcrdphysics\">\n",
    "<img src=\"https://habrastorage.org/webt/8r/ml/xf/8rmlxfpdzukegpxa62cxlfvgkqe.png\" width=20% />\n",
    "\n",
    "</center>"
   ]
  }
 ],
 "metadata": {
  "kernelspec": {
   "display_name": "Python 3 (ipykernel)",
   "language": "python",
   "name": "python3"
  },
  "language_info": {
   "codemirror_mode": {
    "name": "ipython",
    "version": 3
   },
   "file_extension": ".py",
   "mimetype": "text/x-python",
   "name": "python",
   "nbconvert_exporter": "python",
   "pygments_lexer": "ipython3",
   "version": "3.11.3"
  }
 },
 "nbformat": 4,
 "nbformat_minor": 4
}
